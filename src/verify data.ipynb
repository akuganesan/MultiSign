{
 "cells": [
  {
   "cell_type": "code",
   "execution_count": 4,
   "metadata": {},
   "outputs": [],
   "source": [
    "import glob\n",
    "import os"
   ]
  },
  {
   "cell_type": "code",
   "execution_count": 12,
   "metadata": {},
   "outputs": [
    {
     "name": "stdout",
     "output_type": "stream",
     "text": [
      "/scratch/datasets/SIGNUM/s01-p01/con0031 /scratch/datasets/SIGNUM/s01-p01/con0031_h5\n",
      "150 146\n",
      "/scratch/datasets/SIGNUM/s01-p01/con0069 /scratch/datasets/SIGNUM/s01-p01/con0069_h5\n",
      "160 159\n",
      "/scratch/datasets/SIGNUM/s01-p01/con0073 /scratch/datasets/SIGNUM/s01-p01/con0073_h5\n",
      "160 158\n",
      "/scratch/datasets/SIGNUM/s01-p01/con0089 /scratch/datasets/SIGNUM/s01-p01/con0089_h5\n",
      "230 222\n"
     ]
    }
   ],
   "source": [
    "directory = '/scratch/datasets/SIGNUM/'\n",
    "subject = 's01-p01'\n",
    "subject_path = os.path.join(directory, subject)\n",
    "for i in range(1,781):\n",
    "    image_str = str(i).zfill(4)\n",
    "    folder_name = \"con{}\".format(image_str)\n",
    "    h5_name = \"con{}_h5\".format(image_str)\n",
    "    \n",
    "    folder_path = os.path.join(subject_path, folder_name)\n",
    "    h5_path = os.path.join(subject_path , h5_name)\n",
    "    \n",
    "    _, _, img_files = next(os.walk(folder_path))\n",
    "    _, _, pose_files = next(os.walk(h5_path))\n",
    "  \n",
    "    if len(img_files) != len(pose_files):\n",
    "        print(folder_path, h5_path)\n",
    "        print(len(img_files), len(pose_files))"
   ]
  },
  {
   "cell_type": "code",
   "execution_count": null,
   "metadata": {},
   "outputs": [],
   "source": []
  }
 ],
 "metadata": {
  "kernelspec": {
   "display_name": "532",
   "language": "python",
   "name": "532"
  },
  "language_info": {
   "codemirror_mode": {
    "name": "ipython",
    "version": 3
   },
   "file_extension": ".py",
   "mimetype": "text/x-python",
   "name": "python",
   "nbconvert_exporter": "python",
   "pygments_lexer": "ipython3",
   "version": "3.6.12"
  }
 },
 "nbformat": 4,
 "nbformat_minor": 4
}
