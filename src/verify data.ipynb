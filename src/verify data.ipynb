{
 "cells": [
  {
   "cell_type": "code",
   "execution_count": 1,
   "metadata": {},
   "outputs": [],
   "source": [
    "import glob\n",
    "import os\n",
    "import json\n",
    "import deepdish as dd"
   ]
  },
  {
   "cell_type": "code",
   "execution_count": 15,
   "metadata": {},
   "outputs": [],
   "source": [
    "directory = '/scratch/datasets/SIGNUM/'\n",
    "# subject = 's01-p01'\n",
    "# subject = 's11-p01'\n",
    "subject = 's20-p01'\n",
    "\n",
    "\n",
    "pair_folders = []\n",
    "\n",
    "subject_path = os.path.join(directory, subject)\n",
    "for i in range(1,781):\n",
    "    image_str = str(i).zfill(4)\n",
    "    folder_name = \"con{}\".format(image_str)\n",
    "    h5_name = \"con{}_h5\".format(image_str)\n",
    "    json_name = \"con{}_json\".format(image_str)\n",
    "    \n",
    "    folder_path = os.path.join(subject_path, folder_name)\n",
    "    h5_path = os.path.join(subject_path , h5_name)\n",
    "    json_path = os.path.join(subject_path, json_name)\n",
    "    \n",
    "    _, _, img_files = next(os.walk(folder_path))\n",
    "    _, _, pose_files = next(os.walk(h5_path))\n",
    "    _, _, json_files = next(os.walk(json_path))\n",
    "  \n",
    "    if len(img_files) != len(pose_files):\n",
    "        print(folder_path, h5_path)\n",
    "        print(len(img_files), len(pose_files), len(json_files))\n",
    "        pair_folders.append([h5_name, json_name])"
   ]
  },
  {
   "cell_type": "code",
   "execution_count": 16,
   "metadata": {},
   "outputs": [
    {
     "name": "stdout",
     "output_type": "stream",
     "text": [
      "0\n",
      "[]\n"
     ]
    }
   ],
   "source": [
    "print(len(pair_folders))\n",
    "print(pair_folders[:10])"
   ]
  },
  {
   "cell_type": "code",
   "execution_count": 14,
   "metadata": {},
   "outputs": [],
   "source": [
    "for f in pair_folders:\n",
    "    files = [] \n",
    "    path = subject_path\n",
    "#     folder = f\n",
    "    json_folder = os.path.join(subject_path, f[1])\n",
    "    deepdish_folder = os.path.join(subject_path, f[0])\n",
    "    files = os.listdir(json_folder)\n",
    "#     print(files)\n",
    "    for file in files:\n",
    "        with open(os.path.join(json_folder, file)) as data:\n",
    "            d = json.load(data)\n",
    "            dd.io.save(os.path.join(deepdish_folder, file.split(\".\")[0]), d)\n",
    "#         break\n",
    "#     break"
   ]
  },
  {
   "cell_type": "code",
   "execution_count": null,
   "metadata": {},
   "outputs": [],
   "source": []
  }
 ],
 "metadata": {
  "kernelspec": {
   "display_name": "532",
   "language": "python",
   "name": "532"
  },
  "language_info": {
   "codemirror_mode": {
    "name": "ipython",
    "version": 3
   },
   "file_extension": ".py",
   "mimetype": "text/x-python",
   "name": "python",
   "nbconvert_exporter": "python",
   "pygments_lexer": "ipython3",
   "version": "3.6.12"
  }
 },
 "nbformat": 4,
 "nbformat_minor": 4
}
