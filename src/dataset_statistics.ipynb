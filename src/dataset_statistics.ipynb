{
 "cells": [
  {
   "cell_type": "code",
   "execution_count": 1,
   "id": "cardiovascular-mystery",
   "metadata": {},
   "outputs": [],
   "source": [
    "import torch\n",
    "import utils.dataset as dataset\n",
    "import utils.skel as skel\n",
    "\n",
    "from utils.dataset import SIGNUMDataset\n",
    "from torch.utils.data import Dataset, DataLoader"
   ]
  },
  {
   "cell_type": "code",
   "execution_count": 2,
   "id": "empty-income",
   "metadata": {},
   "outputs": [],
   "source": [
    "test_dataset = SIGNUMDataset('/scratch/datasets/SIGNUM', use_pose=True, subsample=10, normalize_poses=False)\n",
    "test_dataloader = DataLoader(test_dataset, batch_size=1, shuffle=False, num_workers=0, collate_fn=test_dataset.collate)"
   ]
  },
  {
   "cell_type": "code",
   "execution_count": 3,
   "id": "comprehensive-founder",
   "metadata": {},
   "outputs": [],
   "source": [
    "all_poses = []\n",
    "for i, data in enumerate(test_dataloader):\n",
    "    img_seq = data['img_seq']\n",
    "    pose_seq = data['pose_seq'].squeeze(0)\n",
    "#     print(pose_seq.shape)\n",
    "    for pose in pose_seq:\n",
    "        all_poses.append(pose)"
   ]
  },
  {
   "cell_type": "code",
   "execution_count": 4,
   "id": "sorted-thesaurus",
   "metadata": {},
   "outputs": [
    {
     "name": "stdout",
     "output_type": "stream",
     "text": [
      "39\n",
      "torch.Size([39, 57, 2])\n"
     ]
    }
   ],
   "source": [
    "print(len(all_poses))\n",
    "all_poses = torch.stack(all_poses)\n",
    "print(all_poses.shape)"
   ]
  },
  {
   "cell_type": "code",
   "execution_count": 5,
   "id": "stretch-sending",
   "metadata": {
    "scrolled": true
   },
   "outputs": [
    {
     "name": "stdout",
     "output_type": "stream",
     "text": [
      "torch.Size([57, 2])\n",
      "tensor([[  -2.3620,  -97.0221],\n",
      "        [   0.0000,    0.0000],\n",
      "        [ -75.8917,   -1.2935],\n",
      "        [-135.2626,  111.0531],\n",
      "        [ -96.5314,   82.5063],\n",
      "        [  77.0379,    0.5276],\n",
      "        [ 120.7003,  128.0623],\n",
      "        [  95.0945,  185.9434],\n",
      "        [  -7.2089,  255.2731],\n",
      "        [ -55.4634,  253.9439],\n",
      "        [  42.7315,  256.9242],\n",
      "        [ -17.9289, -111.9718],\n",
      "        [  13.6308, -112.4159],\n",
      "        [ -38.6564, -100.3853],\n",
      "        [  35.2886, -101.2170],\n",
      "        [  91.8192,  186.1465],\n",
      "        [  78.9553,  188.4580],\n",
      "        [  68.0316,  195.7362],\n",
      "        [  61.0455,  205.5698],\n",
      "        [  54.5087,  211.6717],\n",
      "        [  78.1420,  200.2395],\n",
      "        [  72.1395,  211.1982],\n",
      "        [  66.9818,  217.2951],\n",
      "        [  63.0894,  221.2784],\n",
      "        [  85.8029,  202.9142],\n",
      "        [  78.5424,  214.0804],\n",
      "        [  71.8210,  220.4708],\n",
      "        [  65.7118,  224.9198],\n",
      "        [  91.9384,  203.9198],\n",
      "        [  84.9748,  213.9086],\n",
      "        [  78.3943,  220.0151],\n",
      "        [  71.6505,  224.6294],\n",
      "        [  96.1684,  204.2188],\n",
      "        [  91.7032,  212.6393],\n",
      "        [  86.9158,  217.2150],\n",
      "        [  82.0067,  220.2609],\n",
      "        [ -95.7595,   80.3513],\n",
      "        [ -85.6263,   80.7963],\n",
      "        [ -73.0567,   77.8457],\n",
      "        [ -66.2941,   79.5192],\n",
      "        [ -62.0057,   79.6890],\n",
      "        [ -79.2700,   71.8039],\n",
      "        [ -70.9445,   75.2927],\n",
      "        [ -65.5664,   79.6426],\n",
      "        [ -62.0168,   82.6133],\n",
      "        [ -85.2018,   74.6970],\n",
      "        [ -75.6317,   79.0843],\n",
      "        [ -69.6815,   83.2225],\n",
      "        [ -65.4859,   84.7019],\n",
      "        [ -89.5149,   77.4047],\n",
      "        [ -80.1966,   81.7474],\n",
      "        [ -74.6767,   85.2969],\n",
      "        [ -70.1625,   86.9779],\n",
      "        [ -92.1943,   79.8004],\n",
      "        [ -85.6334,   84.3961],\n",
      "        [ -81.8851,   86.9515],\n",
      "        [ -78.3956,   87.9761]])\n"
     ]
    }
   ],
   "source": [
    "mean = torch.mean(all_poses, dim=0)\n",
    "print(mean.shape)\n",
    "print(mean)"
   ]
  },
  {
   "cell_type": "code",
   "execution_count": 6,
   "id": "amended-assistant",
   "metadata": {
    "scrolled": true
   },
   "outputs": [
    {
     "name": "stdout",
     "output_type": "stream",
     "text": [
      "torch.Size([57, 2])\n",
      "tensor([[  8.6355,   9.8665],\n",
      "        [  0.0000,   0.0000],\n",
      "        [  3.3616,   3.4031],\n",
      "        [ 24.7636,  27.1899],\n",
      "        [ 24.5098, 115.0077],\n",
      "        [  3.3586,   3.9399],\n",
      "        [ 22.5308,  17.9652],\n",
      "        [ 19.3367, 104.7937],\n",
      "        [  4.6447,   3.7964],\n",
      "        [  5.3658,   3.7474],\n",
      "        [  4.8788,   4.2484],\n",
      "        [  7.4848,   9.1025],\n",
      "        [  7.6831,   8.3736],\n",
      "        [  4.3537,   6.8865],\n",
      "        [  3.7691,   6.0518],\n",
      "        [ 20.9649, 108.9021],\n",
      "        [ 21.0160, 113.6503],\n",
      "        [ 24.8524, 123.5456],\n",
      "        [ 28.1404, 131.6848],\n",
      "        [ 30.8806, 138.0395],\n",
      "        [ 30.0022, 135.5549],\n",
      "        [ 33.1870, 143.6713],\n",
      "        [ 34.7425, 146.3232],\n",
      "        [ 36.1206, 147.7048],\n",
      "        [ 30.8822, 134.0831],\n",
      "        [ 34.9488, 141.4391],\n",
      "        [ 36.3661, 143.7732],\n",
      "        [ 37.1322, 145.2559],\n",
      "        [ 31.2055, 130.5622],\n",
      "        [ 35.3591, 136.8134],\n",
      "        [ 36.1940, 139.0678],\n",
      "        [ 36.2934, 140.6539],\n",
      "        [ 30.9619, 125.6904],\n",
      "        [ 34.3458, 130.9107],\n",
      "        [ 35.0089, 132.7978],\n",
      "        [ 35.3563, 134.0050],\n",
      "        [ 24.0834, 118.1880],\n",
      "        [ 23.9362, 123.1291],\n",
      "        [ 26.9407, 134.8586],\n",
      "        [ 31.8766, 144.6964],\n",
      "        [ 36.1486, 152.0733],\n",
      "        [ 31.4570, 146.0837],\n",
      "        [ 36.0187, 155.4452],\n",
      "        [ 38.5809, 158.3839],\n",
      "        [ 40.1233, 160.3554],\n",
      "        [ 33.7084, 144.7262],\n",
      "        [ 38.7071, 153.5626],\n",
      "        [ 40.0977, 156.9194],\n",
      "        [ 40.6530, 160.0335],\n",
      "        [ 35.6154, 141.8941],\n",
      "        [ 40.5173, 149.1917],\n",
      "        [ 41.2056, 152.8063],\n",
      "        [ 42.0236, 156.3223],\n",
      "        [ 37.9688, 138.6086],\n",
      "        [ 41.2570, 144.0585],\n",
      "        [ 41.9445, 146.6129],\n",
      "        [ 42.4811, 149.1246]])\n"
     ]
    }
   ],
   "source": [
    "std = torch.std(all_poses, dim=0)\n",
    "print(std.shape)\n",
    "print(std)"
   ]
  }
 ],
 "metadata": {
  "kernelspec": {
   "display_name": "Python 3",
   "language": "python",
   "name": "python3"
  },
  "language_info": {
   "codemirror_mode": {
    "name": "ipython",
    "version": 3
   },
   "file_extension": ".py",
   "mimetype": "text/x-python",
   "name": "python",
   "nbconvert_exporter": "python",
   "pygments_lexer": "ipython3",
   "version": "3.6.9"
  }
 },
 "nbformat": 4,
 "nbformat_minor": 5
}
