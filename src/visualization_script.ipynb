{
 "cells": [
  {
   "cell_type": "code",
   "execution_count": 1,
   "metadata": {},
   "outputs": [],
   "source": [
    "import os\n",
    "import torch\n",
    "import matplotlib\n",
    "import numpy as np\n",
    "import torch.nn as nn\n",
    "import matplotlib.pyplot as plt\n",
    "\n",
    "import utils.model as model\n",
    "import utils.dataset as dataset\n",
    "import utils.skel as skel\n",
    "from utils.utils import create_folder, save_args, save_configs, generate_unique_run_name\n",
    "import torch.optim as optim\n",
    "\n",
    "os.environ['TRANSFORMERS_CACHE'] = 'transformer_cache/'\n",
    "from utils.dataset import SIGNUMDataset\n",
    "from transformers import BertTokenizer, BertModel\n",
    "from torch.utils.data import Dataset, DataLoader\n",
    "\n",
    "from torch.utils.tensorboard import SummaryWriter\n",
    "\n",
    "from runner import basic_test\n",
    "from utils.skel import TB_vis_pose2D, prep_poses, TB_vis_pose2D_GT"
   ]
  },
  {
   "cell_type": "code",
   "execution_count": 2,
   "metadata": {},
   "outputs": [],
   "source": [
    "def calculate_batch_mpjpe(output, label):\n",
    "    difference =  output - label \n",
    "    square_difference = torch.square(difference) \n",
    "    sum_square_difference_per_point = torch.sum(square_difference, dim=2) \n",
    "    euclidean_distance_per_point = torch.sqrt(sum_square_difference_per_point) \n",
    "    return euclidean_distance_per_point"
   ]
  },
  {
   "cell_type": "code",
   "execution_count": 3,
   "metadata": {
    "scrolled": true
   },
   "outputs": [
    {
     "name": "stdout",
     "output_type": "stream",
     "text": [
      "Running Evaluation for multi on Speaker 11\n",
      "Testing Examples: 78\n",
      "INITIALIZING MODELS\n",
      "LOADING: model-best/multi_run=0/lowest_validation_model.tar from training epoch 60\n"
     ]
    },
    {
     "data": {
      "text/plain": [
       "Decoder(\n",
       "  (cell): DecoderCell(\n",
       "    (rnn): GRUCell(114, 768)\n",
       "    (tp): Linear(in_features=768, out_features=114, bias=True)\n",
       "  )\n",
       "  (dropout): Dropout(p=0.1, inplace=False)\n",
       "  (spacial_attention): ModuleList(\n",
       "    (0): SpacialAttention(\n",
       "      (softmax): Softmax(dim=1)\n",
       "      (dropout): Dropout(p=0.2, inplace=False)\n",
       "    )\n",
       "  )\n",
       "  (temporal_attention): ModuleList(\n",
       "    (0): TemporalAttention(\n",
       "      (Q): Linear(in_features=768, out_features=768, bias=True)\n",
       "      (K): Linear(in_features=768, out_features=768, bias=True)\n",
       "      (V): Linear(in_features=768, out_features=768, bias=True)\n",
       "      (softmax): Softmax(dim=2)\n",
       "    )\n",
       "  )\n",
       "  (attention_mlps): ModuleList(\n",
       "    (0): Sequential(\n",
       "      (0): Linear(in_features=768, out_features=768, bias=True)\n",
       "      (1): ReLU()\n",
       "    )\n",
       "  )\n",
       ")"
      ]
     },
     "execution_count": 3,
     "metadata": {},
     "output_type": "execute_result"
    }
   ],
   "source": [
    "batch_size = 1 #Fixed to 1\n",
    "dataset_root = '/scratch/datasets/SIGNUM'\n",
    "num_workers = 0\n",
    "subsample = 10\n",
    "\n",
    "\n",
    "encoder_type = \"multi\"\n",
    "# encoder_type = \"en\"\n",
    "# encoder_type = \"de\"\n",
    "\n",
    "\n",
    "speaker_id = str(11)\n",
    "print('Running Evaluation for {} on Speaker {}'.format(encoder_type, speaker_id))\n",
    "\n",
    "run_num = 0\n",
    "model_path = 'model-best'\n",
    "\n",
    "device = device = torch.device(\"cuda:{}\".format(1) if torch.cuda.is_available() else \"cpu\")\n",
    "\n",
    "\"\"\"LOAD THE DATASET\"\"\"\n",
    "test_dataset = SIGNUMDataset('/scratch/datasets/SIGNUM', use_pose=True, subsample=subsample,\\\n",
    "                              testing=True, normalize_poses=True, speaker_id=speaker_id)\n",
    "\n",
    "test_loader = torch.utils.data.DataLoader(test_dataset, batch_size=1, shuffle=False, \\\n",
    "                                                num_workers=num_workers, collate_fn=test_dataset.collate)\n",
    "\n",
    "print('Testing Examples: {}'.format(len(test_dataset)))\n",
    "\n",
    "# Initialize Models\n",
    "print('INITIALIZING MODELS')\n",
    "encoder = model.language_encoder(model_type=encoder_type)\n",
    "for param in encoder.parameters():\n",
    "    param.requires_grad = False\n",
    "\n",
    "encoder.eval()\n",
    "\n",
    "\"\"\"SET THE MODEL NAME\"\"\"\n",
    "if encoder_type == \"multi\":\n",
    "    model_name = \"multi_run={}\".format(run_num)\n",
    "elif encoder_type == \"en\":\n",
    "    model_name = \"english_run={}\".format(run_num)\n",
    "else: # encoder_type == \"de\"\n",
    "    model_name = \"german_run={}\".format(run_num)\n",
    "\n",
    "decoder = model.Decoder(hidden_size=768, pose_size=57*2, trajectory_size=0,\n",
    "                           use_h=False, start_zero=False, use_tp=False,\n",
    "                           use_lang=False, use_attn=False).to(device)\n",
    "\n",
    "model_file = os.path.join(model_path, model_name, \"lowest_validation_model.tar\")\n",
    "checkpoint = torch.load(model_file, map_location=device)\n",
    "print(\"LOADING: {} from training epoch {}\".format(model_file, checkpoint[\"epoch\"]))\n",
    "decoder.load_state_dict(checkpoint[\"model_state_dict\"])\n",
    "decoder.eval()"
   ]
  },
  {
   "cell_type": "code",
   "execution_count": 35,
   "metadata": {
    "scrolled": true
   },
   "outputs": [
    {
     "name": "stdout",
     "output_type": "stream",
     "text": [
      "0\n",
      "multi\n",
      "de\n",
      "torch.Size([21, 57])\n",
      "torch.Size([57])\n",
      "1\n",
      "multi\n",
      "de\n",
      "torch.Size([21, 57])\n",
      "torch.Size([57])\n",
      "2\n",
      "multi\n",
      "de\n",
      "torch.Size([22, 57])\n",
      "torch.Size([57])\n",
      "3\n",
      "multi\n",
      "de\n",
      "torch.Size([17, 57])\n",
      "torch.Size([57])\n",
      "4\n",
      "multi\n",
      "de\n",
      "torch.Size([18, 57])\n",
      "torch.Size([57])\n",
      "5\n",
      "multi\n",
      "de\n",
      "torch.Size([16, 57])\n",
      "torch.Size([57])\n",
      "6\n",
      "multi\n",
      "de\n",
      "torch.Size([18, 57])\n",
      "torch.Size([57])\n",
      "7\n",
      "multi\n",
      "de\n",
      "torch.Size([27, 57])\n",
      "torch.Size([57])\n",
      "8\n",
      "multi\n",
      "de\n",
      "torch.Size([18, 57])\n",
      "torch.Size([57])\n",
      "9\n",
      "multi\n",
      "de\n",
      "torch.Size([18, 57])\n",
      "torch.Size([57])\n",
      "10\n",
      "multi\n",
      "de\n",
      "torch.Size([24, 57])\n",
      "torch.Size([57])\n",
      "11\n",
      "multi\n",
      "de\n",
      "torch.Size([24, 57])\n",
      "torch.Size([57])\n",
      "12\n",
      "multi\n",
      "de\n",
      "torch.Size([22, 57])\n",
      "torch.Size([57])\n",
      "13\n",
      "multi\n",
      "de\n",
      "torch.Size([17, 57])\n",
      "torch.Size([57])\n",
      "14\n",
      "multi\n",
      "de\n",
      "torch.Size([20, 57])\n",
      "torch.Size([57])\n",
      "15\n",
      "multi\n",
      "de\n",
      "torch.Size([19, 57])\n",
      "torch.Size([57])\n",
      "16\n",
      "multi\n",
      "de\n",
      "torch.Size([20, 57])\n",
      "torch.Size([57])\n",
      "17\n",
      "multi\n",
      "de\n",
      "torch.Size([20, 57])\n",
      "torch.Size([57])\n",
      "18\n",
      "multi\n",
      "de\n",
      "torch.Size([23, 57])\n",
      "torch.Size([57])\n",
      "19\n",
      "multi\n",
      "de\n",
      "torch.Size([26, 57])\n",
      "torch.Size([57])\n",
      "20\n",
      "multi\n",
      "de\n",
      "torch.Size([18, 57])\n",
      "torch.Size([57])\n",
      "21\n",
      "multi\n",
      "de\n",
      "torch.Size([34, 57])\n",
      "torch.Size([57])\n",
      "22\n",
      "multi\n",
      "de\n",
      "torch.Size([20, 57])\n",
      "torch.Size([57])\n",
      "23\n",
      "multi\n",
      "de\n",
      "torch.Size([24, 57])\n",
      "torch.Size([57])\n",
      "24\n",
      "multi\n",
      "de\n",
      "torch.Size([14, 57])\n",
      "torch.Size([57])\n",
      "25\n",
      "multi\n",
      "de\n",
      "torch.Size([23, 57])\n",
      "torch.Size([57])\n",
      "26\n",
      "multi\n",
      "de\n",
      "torch.Size([26, 57])\n",
      "torch.Size([57])\n",
      "27\n",
      "multi\n",
      "de\n",
      "torch.Size([27, 57])\n",
      "torch.Size([57])\n",
      "28\n",
      "multi\n",
      "de\n",
      "torch.Size([21, 57])\n",
      "torch.Size([57])\n",
      "29\n",
      "multi\n",
      "de\n",
      "torch.Size([19, 57])\n",
      "torch.Size([57])\n",
      "30\n",
      "multi\n",
      "de\n",
      "torch.Size([21, 57])\n",
      "torch.Size([57])\n",
      "31\n",
      "multi\n",
      "de\n",
      "torch.Size([22, 57])\n",
      "torch.Size([57])\n",
      "32\n",
      "multi\n",
      "de\n",
      "torch.Size([27, 57])\n",
      "torch.Size([57])\n",
      "33\n",
      "multi\n",
      "de\n",
      "torch.Size([28, 57])\n",
      "torch.Size([57])\n",
      "34\n",
      "multi\n",
      "de\n",
      "torch.Size([25, 57])\n",
      "torch.Size([57])\n",
      "35\n",
      "multi\n",
      "de\n",
      "torch.Size([22, 57])\n",
      "torch.Size([57])\n",
      "36\n",
      "multi\n",
      "de\n",
      "torch.Size([22, 57])\n",
      "torch.Size([57])\n",
      "37\n",
      "multi\n",
      "de\n",
      "torch.Size([21, 57])\n",
      "torch.Size([57])\n",
      "38\n",
      "multi\n",
      "de\n",
      "torch.Size([23, 57])\n",
      "torch.Size([57])\n",
      "39\n",
      "multi\n",
      "de\n",
      "torch.Size([22, 57])\n",
      "torch.Size([57])\n",
      "40\n",
      "multi\n",
      "de\n",
      "torch.Size([26, 57])\n",
      "torch.Size([57])\n",
      "41\n",
      "multi\n",
      "de\n",
      "torch.Size([20, 57])\n",
      "torch.Size([57])\n",
      "42\n",
      "multi\n",
      "de\n",
      "torch.Size([21, 57])\n",
      "torch.Size([57])\n",
      "43\n",
      "multi\n",
      "de\n",
      "torch.Size([24, 57])\n",
      "torch.Size([57])\n",
      "44\n",
      "multi\n",
      "de\n",
      "torch.Size([30, 57])\n",
      "torch.Size([57])\n",
      "45\n",
      "multi\n",
      "de\n",
      "torch.Size([22, 57])\n",
      "torch.Size([57])\n",
      "46\n",
      "multi\n",
      "de\n",
      "torch.Size([21, 57])\n",
      "torch.Size([57])\n",
      "47\n",
      "multi\n",
      "de\n",
      "torch.Size([23, 57])\n",
      "torch.Size([57])\n",
      "48\n",
      "multi\n",
      "de\n",
      "torch.Size([21, 57])\n",
      "torch.Size([57])\n",
      "49\n",
      "multi\n",
      "de\n",
      "torch.Size([22, 57])\n",
      "torch.Size([57])\n",
      "50\n",
      "multi\n",
      "de\n",
      "torch.Size([24, 57])\n",
      "torch.Size([57])\n",
      "51\n",
      "multi\n",
      "de\n",
      "torch.Size([25, 57])\n",
      "torch.Size([57])\n",
      "52\n",
      "multi\n",
      "de\n",
      "torch.Size([28, 57])\n",
      "torch.Size([57])\n",
      "53\n",
      "multi\n",
      "de\n",
      "torch.Size([23, 57])\n",
      "torch.Size([57])\n",
      "54\n",
      "multi\n",
      "de\n",
      "torch.Size([28, 57])\n",
      "torch.Size([57])\n",
      "55\n",
      "multi\n",
      "de\n",
      "torch.Size([21, 57])\n",
      "torch.Size([57])\n",
      "56\n",
      "multi\n",
      "de\n",
      "torch.Size([25, 57])\n",
      "torch.Size([57])\n",
      "57\n",
      "multi\n",
      "de\n",
      "torch.Size([22, 57])\n",
      "torch.Size([57])\n",
      "58\n",
      "multi\n",
      "de\n",
      "torch.Size([28, 57])\n",
      "torch.Size([57])\n",
      "59\n",
      "multi\n",
      "de\n",
      "torch.Size([27, 57])\n",
      "torch.Size([57])\n",
      "60\n",
      "multi\n",
      "de\n",
      "torch.Size([22, 57])\n",
      "torch.Size([57])\n",
      "61\n",
      "multi\n",
      "de\n",
      "torch.Size([26, 57])\n",
      "torch.Size([57])\n",
      "62\n",
      "multi\n",
      "de\n",
      "torch.Size([26, 57])\n",
      "torch.Size([57])\n",
      "63\n",
      "multi\n",
      "de\n",
      "torch.Size([26, 57])\n",
      "torch.Size([57])\n",
      "64\n",
      "multi\n",
      "de\n",
      "torch.Size([21, 57])\n",
      "torch.Size([57])\n",
      "65\n",
      "multi\n",
      "de\n",
      "torch.Size([26, 57])\n",
      "torch.Size([57])\n",
      "66\n",
      "multi\n",
      "de\n",
      "torch.Size([25, 57])\n",
      "torch.Size([57])\n",
      "67\n",
      "multi\n",
      "de\n",
      "torch.Size([24, 57])\n",
      "torch.Size([57])\n",
      "68\n",
      "multi\n",
      "de\n",
      "torch.Size([33, 57])\n",
      "torch.Size([57])\n",
      "69\n",
      "multi\n",
      "de\n",
      "torch.Size([24, 57])\n",
      "torch.Size([57])\n",
      "70\n",
      "multi\n",
      "de\n",
      "torch.Size([23, 57])\n",
      "torch.Size([57])\n",
      "71\n",
      "multi\n",
      "de\n",
      "torch.Size([31, 57])\n",
      "torch.Size([57])\n",
      "72\n",
      "multi\n",
      "de\n",
      "torch.Size([28, 57])\n",
      "torch.Size([57])\n",
      "73\n",
      "multi\n",
      "de\n",
      "torch.Size([27, 57])\n",
      "torch.Size([57])\n",
      "74\n",
      "multi\n",
      "de\n",
      "torch.Size([24, 57])\n",
      "torch.Size([57])\n",
      "75\n",
      "multi\n",
      "de\n",
      "torch.Size([27, 57])\n",
      "torch.Size([57])\n",
      "76\n",
      "multi\n",
      "de\n",
      "torch.Size([29, 57])\n",
      "torch.Size([57])\n",
      "77\n",
      "multi\n",
      "de\n",
      "torch.Size([29, 57])\n",
      "torch.Size([57])\n",
      "DONE\n"
     ]
    }
   ],
   "source": [
    "# input_lang = 'en'\n",
    "input_lang = 'de'\n",
    "\n",
    "num_joints = 57\n",
    "joint_dim = 2\n",
    "\n",
    "encoder.eval()\n",
    "decoder.eval()\n",
    "\n",
    "all_loss = 0\n",
    "for i, data in enumerate(test_loader):\n",
    "    print(i)\n",
    "#     if i == 10:\n",
    "#         break\n",
    "    img_seq = torch.FloatTensor(data['img_seq'])\n",
    "    pose_seq = data['pose_seq'].to(device)\n",
    "    label_seq = data['label_seq'].to(device)\n",
    "    transl_eng = data['transl_eng']\n",
    "    transl_deu = data['transl_deu']\n",
    "    multilingual = data['multi']\n",
    "    img_seq_len = data['seq_len']\n",
    "\n",
    "    total_sequence = sum(np.array(img_seq_len))\n",
    "    delta = label_seq - pose_seq\n",
    "\n",
    "    if encoder_type == 'multi':\n",
    "#             print('multi')\n",
    "        if input_lang == 'en':\n",
    "            encoder_input = transl_eng\n",
    "        else:\n",
    "            encoder_input = transl_deu\n",
    "        \n",
    "    elif encoder_type == 'en':\n",
    "#             print('en')\n",
    "        encoder_input = transl_eng\n",
    "        input_lang = 'en'\n",
    "    else:\n",
    "#             print('de')\n",
    "        encoder_input = transl_deu\n",
    "        input_lang = 'de'\n",
    "    \n",
    "    print(encoder_type)\n",
    "    print(input_lang)\n",
    "#     print(\"Encoder Input: \", encoder_input)\n",
    "#     print(\"English Input: \", transl_eng)\n",
    "#     print(\"German Input: \", transl_deu)\n",
    "\n",
    "    lang_embed = torch.FloatTensor(encoder(encoder_input)).to(device)\n",
    "\n",
    "    output = decoder.sample(lang_embed.to(device), max(img_seq_len), \\\n",
    "                             pose_seq.view(pose_seq.shape[0], pose_seq.shape[1], -1)[:,0,...].to(device),\\\n",
    "                             attn=None)\n",
    "\n",
    "    packed = dataset.pack_sequence(output, np.array(img_seq_len))\n",
    "    pred_pose = packed.data.view(-1,num_joints*joint_dim)\n",
    "\n",
    "    packed_gt = dataset.pack_sequence(label_seq, np.array(img_seq_len))\n",
    "    gt_label = packed_gt.data.view(-1, num_joints*joint_dim)\n",
    "\n",
    "    pred_pose = skel.denormalize_pose(pred_pose.view(-1, num_joints, joint_dim).detach().cpu())\n",
    "    gt_label = skel.denormalize_pose(gt_label.view(-1, num_joints, joint_dim).detach().cpu())\n",
    "    loss = calculate_batch_mpjpe(pred_pose, gt_label)\n",
    "    print(loss.shape)\n",
    "    \n",
    "    loss = torch.mean(loss, dim=0)\n",
    "    print(loss.shape)\n",
    "\n",
    "    all_loss += loss.detach().cpu()\n",
    "    \n",
    "#     %matplotlib inline\n",
    "#     normalize_poses = True\n",
    "\n",
    "#     size = img_seq_len * 1\n",
    "#     print(\"ENCODER TYPE: \", encoder_type)\n",
    "#     print(\"INPUT TYPE: \", input_lang)\n",
    "#     print(\"ENCODER INPUT: \", encoder_input)\n",
    "#     fig = TB_vis_pose2D(packed, packed_gt, normalize_poses)\n",
    "# #     fig.set_size_inches(size, 1, forward=True)\n",
    "#     plt.show()\n",
    "#     fig.savefig('figures/{}-{}-{}-{}.png'.format(i, encoder_type, input_lang, encoder_input[0]), bbox_inches='tight', dpi=200)\n",
    "\n",
    "all_loss = all_loss / len(test_loader)\n",
    "print(\"DONE\")"
   ]
  },
  {
   "cell_type": "code",
   "execution_count": 36,
   "metadata": {},
   "outputs": [
    {
     "name": "stdout",
     "output_type": "stream",
     "text": [
      "13\n",
      "44\n"
     ]
    }
   ],
   "source": [
    "# error per joint\n",
    "all_loss = list(all_loss)\n",
    "body = all_loss[:4] + all_loss[5:7] + all_loss[8:15]\n",
    "hands = all_loss[4:5] + all_loss[7:8] + all_loss[15:]\n",
    "print(len(body))\n",
    "print(len(hands))"
   ]
  },
  {
   "cell_type": "code",
   "execution_count": 37,
   "metadata": {},
   "outputs": [
    {
     "name": "stdout",
     "output_type": "stream",
     "text": [
      "tensor(4.9561)\n",
      "tensor(61.9024)\n"
     ]
    }
   ],
   "source": [
    "print(torch.mean(torch.tensor(body)))\n",
    "print(torch.mean(torch.tensor(hands)))"
   ]
  },
  {
   "cell_type": "code",
   "execution_count": 12,
   "metadata": {},
   "outputs": [
    {
     "name": "stdout",
     "output_type": "stream",
     "text": [
      "0\n",
      "torch.Size([21, 57, 2])\n",
      "0\n"
     ]
    },
    {
     "data": {
      "image/png": "[encoded data removed]",
      "text/plain": [
       "<Figure size 432x288 with 1 Axes>"
      ]
     },
     "metadata": {
      "needs_background": "light"
     },
     "output_type": "display_data"
    },
    {
     "name": "stdout",
     "output_type": "stream",
     "text": [
      "1\n"
     ]
    },
    {
     "data": {
      "image/png": "[encoded data removed]",
      "text/plain": [
       "<Figure size 432x288 with 1 Axes>"
      ]
     },
     "metadata": {
      "needs_background": "light"
     },
     "output_type": "display_data"
    },
    {
     "name": "stdout",
     "output_type": "stream",
     "text": [
      "2\n"
     ]
    },
    {
     "data": {
      "image/png": "[encoded data removed]",
      "text/plain": [
       "<Figure size 432x288 with 1 Axes>"
      ]
     },
     "metadata": {
      "needs_background": "light"
     },
     "output_type": "display_data"
    },
    {
     "name": "stdout",
     "output_type": "stream",
     "text": [
      "3\n"
     ]
    },
    {
     "data": {
      "image/png": "[encoded data removed]",
      "text/plain": [
       "<Figure size 432x288 with 1 Axes>"
      ]
     },
     "metadata": {
      "needs_background": "light"
     },
     "output_type": "display_data"
    },
    {
     "name": "stdout",
     "output_type": "stream",
     "text": [
      "4\n"
     ]
    },
    {
     "data": {
      "image/png": "[encoded data removed]",
      "text/plain": [
       "<Figure size 432x288 with 1 Axes>"
      ]
     },
     "metadata": {
      "needs_background": "light"
     },
     "output_type": "display_data"
    },
    {
     "name": "stdout",
     "output_type": "stream",
     "text": [
      "5\n"
     ]
    },
    {
     "data": {
      "image/png": "[encoded data removed]",
      "text/plain": [
       "<Figure size 432x288 with 1 Axes>"
      ]
     },
     "metadata": {
      "needs_background": "light"
     },
     "output_type": "display_data"
    },
    {
     "name": "stdout",
     "output_type": "stream",
     "text": [
      "6\n"
     ]
    },
    {
     "data": {
      "image/png": "[encoded data removed]",
      "text/plain": [
       "<Figure size 432x288 with 1 Axes>"
      ]
     },
     "metadata": {
      "needs_background": "light"
     },
     "output_type": "display_data"
    },
    {
     "name": "stdout",
     "output_type": "stream",
     "text": [
      "7\n"
     ]
    },
    {
     "data": {
      "image/png": "[encoded data removed]",
      "text/plain": [
       "<Figure size 432x288 with 1 Axes>"
      ]
     },
     "metadata": {
      "needs_background": "light"
     },
     "output_type": "display_data"
    },
    {
     "name": "stdout",
     "output_type": "stream",
     "text": [
      "8\n"
     ]
    },
    {
     "data": {
      "image/png": "[encoded data removed]",
      "text/plain": [
       "<Figure size 432x288 with 1 Axes>"
      ]
     },
     "metadata": {
      "needs_background": "light"
     },
     "output_type": "display_data"
    },
    {
     "name": "stdout",
     "output_type": "stream",
     "text": [
      "9\n"
     ]
    },
    {
     "data": {
      "image/png": "[encoded data removed]",
      "text/plain": [
       "<Figure size 432x288 with 1 Axes>"
      ]
     },
     "metadata": {
      "needs_background": "light"
     },
     "output_type": "display_data"
    },
    {
     "name": "stdout",
     "output_type": "stream",
     "text": [
      "10\n"
     ]
    },
    {
     "data": {
      "image/png": "[encoded data removed]",
      "text/plain": [
       "<Figure size 432x288 with 1 Axes>"
      ]
     },
     "metadata": {
      "needs_background": "light"
     },
     "output_type": "display_data"
    },
    {
     "name": "stdout",
     "output_type": "stream",
     "text": [
      "11\n"
     ]
    },
    {
     "data": {
      "image/png": "[encoded data removed]",
      "text/plain": [
       "<Figure size 432x288 with 1 Axes>"
      ]
     },
     "metadata": {
      "needs_background": "light"
     },
     "output_type": "display_data"
    },
    {
     "name": "stdout",
     "output_type": "stream",
     "text": [
      "12\n"
     ]
    },
    {
     "data": {
      "image/png": "[encoded data removed]",
      "text/plain": [
       "<Figure size 432x288 with 1 Axes>"
      ]
     },
     "metadata": {
      "needs_background": "light"
     },
     "output_type": "display_data"
    },
    {
     "name": "stdout",
     "output_type": "stream",
     "text": [
      "13\n"
     ]
    },
    {
     "data": {
      "image/png": "[encoded data removed]",
      "text/plain": [
       "<Figure size 432x288 with 1 Axes>"
      ]
     },
     "metadata": {
      "needs_background": "light"
     },
     "output_type": "display_data"
    },
    {
     "name": "stdout",
     "output_type": "stream",
     "text": [
      "14\n"
     ]
    },
    {
     "data": {
      "image/png": "[encoded data removed]",
      "text/plain": [
       "<Figure size 432x288 with 1 Axes>"
      ]
     },
     "metadata": {
      "needs_background": "light"
     },
     "output_type": "display_data"
    },
    {
     "name": "stdout",
     "output_type": "stream",
     "text": [
      "15\n"
     ]
    },
    {
     "data": {
      "image/png": "[encoded data removed]",
      "text/plain": [
       "<Figure size 432x288 with 1 Axes>"
      ]
     },
     "metadata": {
      "needs_background": "light"
     },
     "output_type": "display_data"
    },
    {
     "name": "stdout",
     "output_type": "stream",
     "text": [
      "16\n"
     ]
    },
    {
     "data": {
      "image/png": "[encoded data removed]",
      "text/plain": [
       "<Figure size 432x288 with 1 Axes>"
      ]
     },
     "metadata": {
      "needs_background": "light"
     },
     "output_type": "display_data"
    },
    {
     "name": "stdout",
     "output_type": "stream",
     "text": [
      "17\n"
     ]
    },
    {
     "data": {
      "image/png": "[encoded data removed]",
      "text/plain": [
       "<Figure size 432x288 with 1 Axes>"
      ]
     },
     "metadata": {
      "needs_background": "light"
     },
     "output_type": "display_data"
    },
    {
     "name": "stdout",
     "output_type": "stream",
     "text": [
      "18\n"
     ]
    },
    {
     "data": {
      "image/png": "[encoded data removed]",
      "text/plain": [
       "<Figure size 432x288 with 1 Axes>"
      ]
     },
     "metadata": {
      "needs_background": "light"
     },
     "output_type": "display_data"
    },
    {
     "name": "stdout",
     "output_type": "stream",
     "text": [
      "19\n"
     ]
    },
    {
     "data": {
      "image/png": "[encoded data removed]",
      "text/plain": [
       "<Figure size 432x288 with 1 Axes>"
      ]
     },
     "metadata": {
      "needs_background": "light"
     },
     "output_type": "display_data"
    },
    {
     "name": "stdout",
     "output_type": "stream",
     "text": [
      "20\n"
     ]
    },
    {
     "data": {
      "image/png": "[encoded data removed]",
      "text/plain": [
       "<Figure size 432x288 with 1 Axes>"
      ]
     },
     "metadata": {
      "needs_background": "light"
     },
     "output_type": "display_data"
    },
    {
     "name": "stdout",
     "output_type": "stream",
     "text": [
      "0\n"
     ]
    },
    {
     "data": {
      "image/png": "[encoded data removed]",
      "text/plain": [
       "<Figure size 432x288 with 1 Axes>"
      ]
     },
     "metadata": {
      "needs_background": "light"
     },
     "output_type": "display_data"
    },
    {
     "name": "stdout",
     "output_type": "stream",
     "text": [
      "1\n"
     ]
    },
    {
     "data": {
      "image/png": "[encoded data removed]",
      "text/plain": [
       "<Figure size 432x288 with 1 Axes>"
      ]
     },
     "metadata": {
      "needs_background": "light"
     },
     "output_type": "display_data"
    },
    {
     "name": "stdout",
     "output_type": "stream",
     "text": [
      "2\n"
     ]
    },
    {
     "data": {
      "image/png": "[encoded data removed]",
      "text/plain": [
       "<Figure size 432x288 with 1 Axes>"
      ]
     },
     "metadata": {
      "needs_background": "light"
     },
     "output_type": "display_data"
    },
    {
     "name": "stdout",
     "output_type": "stream",
     "text": [
      "3\n"
     ]
    },
    {
     "data": {
      "image/png": "[encoded data removed]",
      "text/plain": [
       "<Figure size 432x288 with 1 Axes>"
      ]
     },
     "metadata": {
      "needs_background": "light"
     },
     "output_type": "display_data"
    },
    {
     "name": "stdout",
     "output_type": "stream",
     "text": [
      "4\n"
     ]
    },
    {
     "data": {
      "image/png": "[encoded data removed]",
      "text/plain": [
       "<Figure size 432x288 with 1 Axes>"
      ]
     },
     "metadata": {
      "needs_background": "light"
     },
     "output_type": "display_data"
    },
    {
     "name": "stdout",
     "output_type": "stream",
     "text": [
      "5\n"
     ]
    },
    {
     "data": {
      "image/png": "[encoded data removed]",
      "text/plain": [
       "<Figure size 432x288 with 1 Axes>"
      ]
     },
     "metadata": {
      "needs_background": "light"
     },
     "output_type": "display_data"
    },
    {
     "name": "stdout",
     "output_type": "stream",
     "text": [
      "6\n"
     ]
    },
    {
     "data": {
      "image/png": "[encoded data removed]",
      "text/plain": [
       "<Figure size 432x288 with 1 Axes>"
      ]
     },
     "metadata": {
      "needs_background": "light"
     },
     "output_type": "display_data"
    },
    {
     "name": "stdout",
     "output_type": "stream",
     "text": [
      "7\n"
     ]
    },
    {
     "data": {
      "image/png": "[encoded data removed]",
      "text/plain": [
       "<Figure size 432x288 with 1 Axes>"
      ]
     },
     "metadata": {
      "needs_background": "light"
     },
     "output_type": "display_data"
    },
    {
     "name": "stdout",
     "output_type": "stream",
     "text": [
      "8\n"
     ]
    },
    {
     "data": {
      "image/png": "[encoded data removed]",
      "text/plain": [
       "<Figure size 432x288 with 1 Axes>"
      ]
     },
     "metadata": {
      "needs_background": "light"
     },
     "output_type": "display_data"
    },
    {
     "name": "stdout",
     "output_type": "stream",
     "text": [
      "9\n"
     ]
    },
    {
     "data": {
      "image/png": "[encoded data removed]",
      "text/plain": [
       "<Figure size 432x288 with 1 Axes>"
      ]
     },
     "metadata": {
      "needs_background": "light"
     },
     "output_type": "display_data"
    },
    {
     "name": "stdout",
     "output_type": "stream",
     "text": [
      "10\n"
     ]
    },
    {
     "data": {
      "image/png": "[encoded data removed]",
      "text/plain": [
       "<Figure size 432x288 with 1 Axes>"
      ]
     },
     "metadata": {
      "needs_background": "light"
     },
     "output_type": "display_data"
    },
    {
     "name": "stdout",
     "output_type": "stream",
     "text": [
      "11\n"
     ]
    },
    {
     "data": {
      "image/png": "[encoded data removed]",
      "text/plain": [
       "<Figure size 432x288 with 1 Axes>"
      ]
     },
     "metadata": {
      "needs_background": "light"
     },
     "output_type": "display_data"
    },
    {
     "name": "stdout",
     "output_type": "stream",
     "text": [
      "12\n"
     ]
    },
    {
     "data": {
      "image/png": "[encoded data removed]",
      "text/plain": [
       "<Figure size 432x288 with 1 Axes>"
      ]
     },
     "metadata": {
      "needs_background": "light"
     },
     "output_type": "display_data"
    },
    {
     "name": "stdout",
     "output_type": "stream",
     "text": [
      "13\n"
     ]
    },
    {
     "data": {
      "image/png": "[encoded data removed]",
      "text/plain": [
       "<Figure size 432x288 with 1 Axes>"
      ]
     },
     "metadata": {
      "needs_background": "light"
     },
     "output_type": "display_data"
    },
    {
     "name": "stdout",
     "output_type": "stream",
     "text": [
      "14\n"
     ]
    },
    {
     "data": {
      "image/png": "[encoded data removed]",
      "text/plain": [
       "<Figure size 432x288 with 1 Axes>"
      ]
     },
     "metadata": {
      "needs_background": "light"
     },
     "output_type": "display_data"
    },
    {
     "name": "stdout",
     "output_type": "stream",
     "text": [
      "15\n"
     ]
    },
    {
     "data": {
      "image/png": "[encoded data removed]",
      "text/plain": [
       "<Figure size 432x288 with 1 Axes>"
      ]
     },
     "metadata": {
      "needs_background": "light"
     },
     "output_type": "display_data"
    },
    {
     "name": "stdout",
     "output_type": "stream",
     "text": [
      "16\n"
     ]
    },
    {
     "data": {
      "image/png": "[encoded data removed]",
      "text/plain": [
       "<Figure size 432x288 with 1 Axes>"
      ]
     },
     "metadata": {
      "needs_background": "light"
     },
     "output_type": "display_data"
    },
    {
     "name": "stdout",
     "output_type": "stream",
     "text": [
      "17\n"
     ]
    },
    {
     "data": {
      "image/png": "[encoded data removed]",
      "text/plain": [
       "<Figure size 432x288 with 1 Axes>"
      ]
     },
     "metadata": {
      "needs_background": "light"
     },
     "output_type": "display_data"
    },
    {
     "name": "stdout",
     "output_type": "stream",
     "text": [
      "18\n"
     ]
    },
    {
     "data": {
      "image/png": "[encoded data removed]",
      "text/plain": [
       "<Figure size 432x288 with 1 Axes>"
      ]
     },
     "metadata": {
      "needs_background": "light"
     },
     "output_type": "display_data"
    },
    {
     "name": "stdout",
     "output_type": "stream",
     "text": [
      "19\n"
     ]
    },
    {
     "data": {
      "image/png": "[encoded data removed]",
      "text/plain": [
       "<Figure size 432x288 with 1 Axes>"
      ]
     },
     "metadata": {
      "needs_background": "light"
     },
     "output_type": "display_data"
    },
    {
     "name": "stdout",
     "output_type": "stream",
     "text": [
      "20\n"
     ]
    },
    {
     "data": {
      "image/png": "[encoded data removed]",
      "text/plain": [
       "<Figure size 432x288 with 1 Axes>"
      ]
     },
     "metadata": {
      "needs_background": "light"
     },
     "output_type": "display_data"
    },
    {
     "name": "stdout",
     "output_type": "stream",
     "text": [
      "1\n"
     ]
    }
   ],
   "source": [
    "from utils.skel import TB_vis_pose2D_GT\n",
    "for i, data in enumerate(test_loader):\n",
    "    print(i)\n",
    "    if i == 1:\n",
    "        break\n",
    "    img_seq = torch.FloatTensor(data['img_seq'])\n",
    "    pose_seq = data['pose_seq'].to(device)\n",
    "    label_seq = data['label_seq'].to(device)\n",
    "    transl_eng = data['transl_eng']\n",
    "    transl_deu = data['transl_deu']\n",
    "    multilingual = data['multi']\n",
    "    img_seq_len = data['seq_len']\n",
    "\n",
    "    total_sequence = sum(np.array(img_seq_len))\n",
    "    delta = label_seq - pose_seq\n",
    "    \n",
    "    \n",
    "    %matplotlib inline\n",
    "    normalize_poses = True\n",
    "    \n",
    "    packed = dataset.pack_sequence(pose_seq, np.array(img_seq_len))\n",
    "    packed_gt = dataset.pack_sequence(label_seq, np.array(img_seq_len))\n",
    "    \n",
    "    vis_pose, vis_gt, len_pose, len_gt = prep_poses(packed, packed_gt, num_joints=57, joint_dim=2, normalize=True)\n",
    "    print(vis_gt.shape)\n",
    "    \n",
    "    \n",
    "    for k, pose in enumerate(vis_pose):\n",
    "        fig = plt.figure()\n",
    "    #     clear_output(wait=True)\n",
    "        print(k)\n",
    "        ax = plt.subplot(111)\n",
    "#         pose = skel.denormalize_pose(pose, test_dataset.mean, test_dataset.std)\n",
    "#         pose_gt = skel.denormalize_pose(vis_gt[i], test_dataset.mean, test_dataset.std)\n",
    "\n",
    "    #     print(pose.shape)\n",
    "#         skel.plot_pose2D(ax, pose)\n",
    "        skel.plot_pose2D(ax, pose, colormap='copper', gt=True)\n",
    "        ax.axis('off')\n",
    "        plt.show()\n",
    "        fig.savefig('figures/GT/{}.jpg'.format(k), bbox_inches='tight', dpi=200)\n",
    "        \n",
    "    for k, pose in enumerate(vis_gt):\n",
    "        fig = plt.figure()\n",
    "    #     clear_output(wait=True)\n",
    "        print(k)\n",
    "        ax = plt.subplot(111)\n",
    "#         pose = skel.denormalize_pose(pose, test_dataset.mean, test_dataset.std)\n",
    "#         pose_gt = skel.denormalize_pose(vis_gt[i], test_dataset.mean, test_dataset.std)\n",
    "\n",
    "    #     print(pose.shape)\n",
    "#         skel.plot_pose2D(ax, pose)\n",
    "        skel.plot_pose2D(ax, pose, colormap='rainbow', gt=False)\n",
    "        ax.axis('off')\n",
    "        plt.show()\n",
    "        fig.savefig('figures/GT/pred-{}.jpg'.format(k), bbox_inches='tight', dpi=200)"
   ]
  },
  {
   "cell_type": "code",
   "execution_count": null,
   "metadata": {},
   "outputs": [],
   "source": []
  }
 ],
 "metadata": {
  "kernelspec": {
   "display_name": "532",
   "language": "python",
   "name": "532"
  },
  "language_info": {
   "codemirror_mode": {
    "name": "ipython",
    "version": 3
   },
   "file_extension": ".py",
   "mimetype": "text/x-python",
   "name": "python",
   "nbconvert_exporter": "python",
   "pygments_lexer": "ipython3",
   "version": "3.6.12"
  }
 },
 "nbformat": 4,
 "nbformat_minor": 4
}
