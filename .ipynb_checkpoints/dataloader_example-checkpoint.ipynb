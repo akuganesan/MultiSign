{
 "cells": [
  {
   "cell_type": "code",
   "execution_count": 1,
   "id": "abandoned-empire",
   "metadata": {},
   "outputs": [],
   "source": [
    "import torch\n",
    "from torch.utils.data import Dataset, DataLoader\n",
    "from dataset import SIGNUMDataset\n",
    "import dataset\n",
    "import skeleton_utils as skel\n",
    "import matplotlib\n",
    "import matplotlib.pyplot as plt\n",
    "from IPython.display import clear_output"
   ]
  },
  {
   "cell_type": "code",
   "execution_count": 2,
   "id": "great-width",
   "metadata": {},
   "outputs": [],
   "source": [
    "test_dataset = SIGNUMDataset('/scratch/datasets/SIGNUM', use_pose=True, subsample=10)\n",
    "test_dataloader = DataLoader(test_dataset, batch_size=1, shuffle=False, num_workers=0, collate_fn=test_dataset.collate)"
   ]
  },
  {
   "cell_type": "code",
   "execution_count": 3,
   "id": "verified-fiction",
   "metadata": {},
   "outputs": [
    {
     "name": "stdout",
     "output_type": "stream",
     "text": [
      "3\n"
     ]
    }
   ],
   "source": [
    "print(len(test_dataloader))"
   ]
  },
  {
   "cell_type": "code",
   "execution_count": 4,
   "id": "occupied-wings",
   "metadata": {},
   "outputs": [
    {
     "name": "stdout",
     "output_type": "stream",
     "text": [
      "['/scratch/datasets/SIGNUM/s01-p01/con0001_h5/', '/scratch/datasets/SIGNUM/s01-p01/con0002_h5/', '/scratch/datasets/SIGNUM/s01-p01/con0003_h5/']\n",
      "['/scratch/datasets/SIGNUM/s01-p01/con0001/', '/scratch/datasets/SIGNUM/s01-p01/con0002/', '/scratch/datasets/SIGNUM/s01-p01/con0003/']\n"
     ]
    }
   ],
   "source": [
    "print(test_dataset.pose_folders)\n",
    "print(test_dataset.sentence_folders)\n",
    "# print(test_dataset.pose_paths[0])"
   ]
  },
  {
   "cell_type": "code",
   "execution_count": 5,
   "id": "peaceful-nation",
   "metadata": {},
   "outputs": [
    {
     "name": "stdout",
     "output_type": "stream",
     "text": [
      "torch.Size([1, 12, 3, 256, 256])\n",
      "torch.Size([1, 12, 57, 2])\n",
      "torch.Size([1, 15, 3, 256, 256])\n",
      "torch.Size([1, 15, 57, 2])\n",
      "torch.Size([1, 15, 3, 256, 256])\n",
      "torch.Size([1, 15, 57, 2])\n"
     ]
    }
   ],
   "source": [
    "for i, data in enumerate(test_dataloader):\n",
    "    img_seq = data['img_seq']\n",
    "    pose_seq = data['pose_seq']\n",
    "    transl_eng = data['transl_eng']\n",
    "    transl_deu = data['transl_deu']\n",
    "    print(img_seq.shape)\n",
    "    print(pose_seq.shape)\n",
    "    "
   ]
  },
  {
   "cell_type": "code",
   "execution_count": 6,
   "id": "pharmaceutical-grant",
   "metadata": {},
   "outputs": [
    {
     "name": "stdout",
     "output_type": "stream",
     "text": [
      "torch.Size([1, 15, 57, 2])\n",
      "None\n",
      "tensor([[-1.4006,  0.6649],\n",
      "        [ 0.0000,  0.0000],\n",
      "        [ 0.6924, -0.1472],\n",
      "        [-1.2093, -0.5147],\n",
      "        [-0.1274, -0.7790],\n",
      "        [-0.4930,  0.3409],\n",
      "        [-0.1348,  0.4558],\n",
      "        [ 1.6190, -0.6553],\n",
      "        [-1.1873, -0.9275],\n",
      "        [-1.4186, -0.5593],\n",
      "        [-1.0718, -1.2015],\n",
      "        [-1.6382,  0.4561],\n",
      "        [-1.6333, -0.0113],\n",
      "        [-1.6479,  0.0560],\n",
      "        [-1.8627, -0.0903],\n",
      "        [ 1.1615, -0.6435],\n",
      "        [ 1.4066, -0.7001],\n",
      "        [ 1.2257, -0.7768],\n",
      "        [ 0.9453, -0.8320],\n",
      "        [ 0.6231, -0.8756],\n",
      "        [ 1.2325, -0.7894],\n",
      "        [ 1.4165, -0.8839],\n",
      "        [ 1.6399, -0.9399],\n",
      "        [ 1.8339, -0.9697],\n",
      "        [ 1.2154, -0.7703],\n",
      "        [ 1.4729, -0.8651],\n",
      "        [ 1.5718, -0.8898],\n",
      "        [ 1.5615, -0.8903],\n",
      "        [ 1.2522, -0.7284],\n",
      "        [ 1.4470, -0.8062],\n",
      "        [ 1.5504, -0.8346],\n",
      "        [ 1.5164, -0.8291],\n",
      "        [ 1.2208, -0.6681],\n",
      "        [ 1.3959, -0.7291],\n",
      "        [ 1.4928, -0.7626],\n",
      "        [ 1.5598, -0.7870],\n",
      "        [ 0.0077, -0.7995],\n",
      "        [ 0.2885, -0.7983],\n",
      "        [ 0.4114, -0.8156],\n",
      "        [ 0.5832, -0.8470],\n",
      "        [ 0.7313, -0.8340],\n",
      "        [-0.0212, -0.8475],\n",
      "        [-0.0997, -0.9432],\n",
      "        [ 0.0654, -0.9869],\n",
      "        [ 0.1353, -1.0266],\n",
      "        [-0.0585, -0.8933],\n",
      "        [-0.0036, -0.9650],\n",
      "        [ 0.1191, -0.9992],\n",
      "        [ 0.2322, -1.0059],\n",
      "        [-0.0695, -0.8973],\n",
      "        [-0.0740, -0.9692],\n",
      "        [ 0.1185, -0.9901],\n",
      "        [ 0.2432, -0.9899],\n",
      "        [-0.1647, -0.9085],\n",
      "        [-0.0643, -0.9617],\n",
      "        [ 0.0477, -0.9735],\n",
      "        [ 0.1631, -0.9657]])\n",
      "torch.Size([57, 2])\n"
     ]
    }
   ],
   "source": [
    "print(print(pose_seq.shape))\n",
    "pose = pose_seq[0,8]\n",
    "print(pose)\n",
    "print(pose.shape)"
   ]
  },
  {
   "cell_type": "code",
   "execution_count": 7,
   "id": "detected-consequence",
   "metadata": {
    "scrolled": false
   },
   "outputs": [
    {
     "name": "stdout",
     "output_type": "stream",
     "text": [
      "torch.Size([57, 2])\n",
      "(2, 57)\n"
     ]
    },
    {
     "data": {
      "image/png": "[encoded data removed]",
      "text/plain": [
       "<Figure size 432x288 with 1 Axes>"
      ]
     },
     "metadata": {
      "needs_background": "light"
     },
     "output_type": "display_data"
    }
   ],
   "source": [
    "fig = plt.figure()\n",
    "\n",
    "for i, pose in enumerate(pose_seq[0]):\n",
    "    clear_output(wait=True)\n",
    "    ax = plt.subplot(111)\n",
    "    pose = skel.denormalize_pose(pose, test_dataset.mean, test_dataset.std)\n",
    "    print(pose.shape)\n",
    "    skel.plot_pose2D(ax, pose)\n",
    "    plt.show()"
   ]
  },
  {
   "cell_type": "code",
   "execution_count": null,
   "id": "downtown-relief",
   "metadata": {},
   "outputs": [],
   "source": []
  },
  {
   "cell_type": "code",
   "execution_count": null,
   "id": "original-article",
   "metadata": {},
   "outputs": [],
   "source": []
  }
 ],
 "metadata": {
  "kernelspec": {
   "display_name": "Python 3",
   "language": "python",
   "name": "python3"
  },
  "language_info": {
   "codemirror_mode": {
    "name": "ipython",
    "version": 3
   },
   "file_extension": ".py",
   "mimetype": "text/x-python",
   "name": "python",
   "nbconvert_exporter": "python",
   "pygments_lexer": "ipython3",
   "version": "3.6.9"
  }
 },
 "nbformat": 4,
 "nbformat_minor": 5
}
