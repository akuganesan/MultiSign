{
 "cells": [
  {
   "cell_type": "code",
   "execution_count": 1,
   "id": "verbal-offering",
   "metadata": {},
   "outputs": [],
   "source": [
    "import torch\n",
    "from torch.utils.data import Dataset, DataLoader\n",
    "from dataset import SIGNUMDataset\n",
    "import dataset\n",
    "import skeleton_utils as skel"
   ]
  },
  {
   "cell_type": "code",
   "execution_count": 2,
   "id": "freelance-tennis",
   "metadata": {},
   "outputs": [
    {
     "ename": "SyntaxError",
     "evalue": "keyword argument repeated (<ipython-input-2-aebfca92aaab>, line 1)",
     "output_type": "error",
     "traceback": [
      "\u001b[0;36m  File \u001b[0;32m\"<ipython-input-2-aebfca92aaab>\"\u001b[0;36m, line \u001b[0;32m1\u001b[0m\n\u001b[0;31m    test_dataset = SIGNUMDataset('/scratch/datasets/SIGNUM', use_pose=True, subsample=10, normalize=False, subsample=1)\u001b[0m\n\u001b[0m                                                                                                          ^\u001b[0m\n\u001b[0;31mSyntaxError\u001b[0m\u001b[0;31m:\u001b[0m keyword argument repeated\n"
     ]
    }
   ],
   "source": [
    "test_dataset = SIGNUMDataset('/scratch/datasets/SIGNUM', use_pose=True, subsample=10, normalize=False)\n",
    "test_dataloader = DataLoader(test_dataset, batch_size=1, shuffle=False, num_workers=0, collate_fn=test_dataset.collate)"
   ]
  },
  {
   "cell_type": "code",
   "execution_count": null,
   "id": "comfortable-certification",
   "metadata": {},
   "outputs": [],
   "source": [
    "all_poses = []\n",
    "for i, data in enumerate(test_dataloader):\n",
    "    img_seq = data['img_seq']\n",
    "    pose_seq = data['pose_seq'].squeeze(0)\n",
    "#     print(pose_seq.shape)\n",
    "    for pose in pose_seq:\n",
    "        all_poses.append(pose)"
   ]
  },
  {
   "cell_type": "code",
   "execution_count": null,
   "id": "opened-anthropology",
   "metadata": {},
   "outputs": [],
   "source": [
    "print(len(all_poses))\n",
    "all_poses = torch.stack(all_poses)\n",
    "print(all_poses.shape)"
   ]
  },
  {
   "cell_type": "code",
   "execution_count": null,
   "id": "unauthorized-telling",
   "metadata": {
    "scrolled": true
   },
   "outputs": [],
   "source": [
    "mean = torch.mean(all_poses, dim=0)\n",
    "print(mean.shape)\n",
    "print(mean)"
   ]
  },
  {
   "cell_type": "code",
   "execution_count": null,
   "id": "healthy-international",
   "metadata": {
    "scrolled": true
   },
   "outputs": [],
   "source": [
    "std = torch.std(all_poses, dim=0)\n",
    "print(std.shape)\n",
    "print(std)"
   ]
  },
  {
   "cell_type": "code",
   "execution_count": null,
   "id": "concerned-extraction",
   "metadata": {},
   "outputs": [],
   "source": []
  }
 ],
 "metadata": {
  "kernelspec": {
   "display_name": "532",
   "language": "python",
   "name": "532"
  },
  "language_info": {
   "codemirror_mode": {
    "name": "ipython",
    "version": 3
   },
   "file_extension": ".py",
   "mimetype": "text/x-python",
   "name": "python",
   "nbconvert_exporter": "python",
   "pygments_lexer": "ipython3",
   "version": "3.6.12"
  }
 },
 "nbformat": 4,
 "nbformat_minor": 5
}
