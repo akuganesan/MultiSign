{
 "cells": [
  {
   "cell_type": "code",
   "execution_count": 1,
   "id": "cardiovascular-mystery",
   "metadata": {},
   "outputs": [],
   "source": [
    "import torch\n",
    "from torch.utils.data import Dataset, DataLoader\n",
    "from dataset import SIGNUMDataset\n",
    "import dataset\n",
    "import skeleton_utils as skel"
   ]
  },
  {
   "cell_type": "code",
   "execution_count": 2,
   "id": "empty-income",
   "metadata": {},
   "outputs": [],
   "source": [
    "test_dataset = SIGNUMDataset('/scratch/datasets/SIGNUM', use_pose=True, subsample=10, normalize_poses=False)\n",
    "test_dataloader = DataLoader(test_dataset, batch_size=1, shuffle=False, num_workers=0, collate_fn=test_dataset.collate)"
   ]
  },
  {
   "cell_type": "code",
   "execution_count": 3,
   "id": "comprehensive-founder",
   "metadata": {},
   "outputs": [],
   "source": [
    "all_poses = []\n",
    "for i, data in enumerate(test_dataloader):\n",
    "    img_seq = data['img_seq']\n",
    "    pose_seq = data['pose_seq'].squeeze(0)\n",
    "#     print(pose_seq.shape)\n",
    "    for pose in pose_seq:\n",
    "        all_poses.append(pose)"
   ]
  },
  {
   "cell_type": "code",
   "execution_count": 4,
   "id": "sorted-thesaurus",
   "metadata": {},
   "outputs": [
    {
     "name": "stdout",
     "output_type": "stream",
     "text": [
      "42\n",
      "torch.Size([42, 57, 2])\n"
     ]
    }
   ],
   "source": [
    "print(len(all_poses))\n",
    "all_poses = torch.stack(all_poses)\n",
    "print(all_poses.shape)"
   ]
  },
  {
   "cell_type": "code",
   "execution_count": 5,
   "id": "stretch-sending",
   "metadata": {
    "scrolled": true
   },
   "outputs": [
    {
     "name": "stdout",
     "output_type": "stream",
     "text": [
      "torch.Size([57, 2])\n",
      "tensor([[  -2.3412,  -97.6914],\n",
      "        [   0.0000,    0.0000],\n",
      "        [ -76.1578,   -1.0895],\n",
      "        [-133.3085,  113.1510],\n",
      "        [ -97.6083,   95.6250],\n",
      "        [  77.0392,    0.2651],\n",
      "        [ 119.3810,  128.8335],\n",
      "        [  95.4901,  191.7840],\n",
      "        [  -7.2154,  255.0793],\n",
      "        [ -55.4292,  253.6966],\n",
      "        [  42.8258,  256.6504],\n",
      "        [ -17.8825, -112.5831],\n",
      "        [  13.6705, -112.9942],\n",
      "        [ -38.5894, -100.8876],\n",
      "        [  35.3512, -101.6589],\n",
      "        [  92.3364,  192.0311],\n",
      "        [  79.5039,  194.6338],\n",
      "        [  68.7516,  202.4819],\n",
      "        [  62.0488,  212.7039],\n",
      "        [  55.6999,  219.1430],\n",
      "        [  79.0139,  207.6019],\n",
      "        [  73.3135,  218.8686],\n",
      "        [  68.2580,  225.0247],\n",
      "        [  64.4284,  229.0280],\n",
      "        [  86.7490,  210.1239],\n",
      "        [  79.8298,  221.5072],\n",
      "        [  73.2210,  227.9610],\n",
      "        [  67.1932,  232.3713],\n",
      "        [  92.9785,  210.8425],\n",
      "        [  86.3228,  221.0307],\n",
      "        [  79.8700,  227.1321],\n",
      "        [  73.1389,  231.8225],\n",
      "        [  97.2872,  210.7396],\n",
      "        [  93.0523,  219.3704],\n",
      "        [  88.3157,  224.0377],\n",
      "        [  83.4279,  227.0812],\n",
      "        [ -96.9418,   93.9072],\n",
      "        [ -86.6929,   94.8592],\n",
      "        [ -74.5326,   93.0459],\n",
      "        [ -68.0901,   95.8400],\n",
      "        [ -63.8447,   96.8493],\n",
      "        [ -81.2660,   88.4380],\n",
      "        [ -73.4101,   92.7795],\n",
      "        [ -68.1156,   97.3949],\n",
      "        [ -64.5568,  100.4666],\n",
      "        [ -87.3880,   91.0741],\n",
      "        [ -78.3264,   96.2502],\n",
      "        [ -72.3252,  100.6692],\n",
      "        [ -68.0288,  102.3185],\n",
      "        [ -91.8318,   93.4007],\n",
      "        [ -82.9036,   98.4225],\n",
      "        [ -77.3774,  102.1571],\n",
      "        [ -72.7472,  104.0937],\n",
      "        [ -94.5332,   95.5127],\n",
      "        [ -88.2029,  100.5063],\n",
      "        [ -84.3967,  103.2047],\n",
      "        [ -80.8433,  104.4066]])\n"
     ]
    }
   ],
   "source": [
    "mean = torch.mean(all_poses, dim=0)\n",
    "print(mean.shape)\n",
    "print(mean)"
   ]
  },
  {
   "cell_type": "code",
   "execution_count": 6,
   "id": "amended-assistant",
   "metadata": {
    "scrolled": true
   },
   "outputs": [
    {
     "name": "stdout",
     "output_type": "stream",
     "text": [
      "torch.Size([57, 2])\n",
      "tensor([[  8.3872,   9.8222],\n",
      "        [  0.0000,   0.0000],\n",
      "        [  3.3850,   3.3598],\n",
      "        [ 24.8849,  27.2823],\n",
      "        [ 23.9211, 120.6268],\n",
      "        [  3.2334,   3.9270],\n",
      "        [ 22.2188,  17.5274],\n",
      "        [ 18.6944, 103.1139],\n",
      "        [  4.4762,   3.7923],\n",
      "        [  5.2015,   3.8202],\n",
      "        [  4.7479,   4.2533],\n",
      "        [  7.2819,   9.0510],\n",
      "        [  7.4066,   8.3427],\n",
      "        [  4.2130,   6.8816],\n",
      "        [  3.7473,   6.0488],\n",
      "        [ 20.2803, 107.0189],\n",
      "        [ 20.3432, 111.7105],\n",
      "        [ 24.0840, 121.4610],\n",
      "        [ 27.3532, 129.4214],\n",
      "        [ 30.0619, 135.6615],\n",
      "        [ 29.0798, 133.2385],\n",
      "        [ 32.2536, 141.1193],\n",
      "        [ 33.7873, 143.6649],\n",
      "        [ 35.1281, 144.9838],\n",
      "        [ 29.9483, 131.7386],\n",
      "        [ 33.9855, 138.8374],\n",
      "        [ 35.3923, 141.0867],\n",
      "        [ 36.1650, 142.4610],\n",
      "        [ 30.3009, 128.2089],\n",
      "        [ 34.4037, 134.2531],\n",
      "        [ 35.2675, 136.3794],\n",
      "        [ 35.3709, 137.9315],\n",
      "        [ 30.0986, 123.3245],\n",
      "        [ 33.4404, 128.4023],\n",
      "        [ 34.0955, 130.2494],\n",
      "        [ 34.4371, 131.3884],\n",
      "        [ 23.5885, 124.0709],\n",
      "        [ 23.3741, 129.1710],\n",
      "        [ 26.4959, 141.1846],\n",
      "        [ 31.3846, 151.5009],\n",
      "        [ 35.4467, 159.2361],\n",
      "        [ 31.1569, 153.1788],\n",
      "        [ 35.8269, 162.6894],\n",
      "        [ 38.2925, 165.6721],\n",
      "        [ 39.7275, 167.5634],\n",
      "        [ 33.4222, 151.6081],\n",
      "        [ 38.5424, 160.5633],\n",
      "        [ 39.7913, 163.9386],\n",
      "        [ 40.2245, 166.9431],\n",
      "        [ 35.3179, 148.5539],\n",
      "        [ 40.2399, 155.9895],\n",
      "        [ 40.8779, 159.4587],\n",
      "        [ 41.5441, 162.9424],\n",
      "        [ 37.5400, 145.2387],\n",
      "        [ 40.8132, 150.6351],\n",
      "        [ 41.4110, 153.1040],\n",
      "        [ 41.8647, 155.5847]])\n"
     ]
    }
   ],
   "source": [
    "std = torch.std(all_poses, dim=0)\n",
    "print(std.shape)\n",
    "print(std)"
   ]
  },
  {
   "cell_type": "code",
   "execution_count": null,
   "id": "referenced-chocolate",
   "metadata": {},
   "outputs": [],
   "source": []
  }
 ],
 "metadata": {
  "kernelspec": {
   "display_name": "532",
   "language": "python",
   "name": "532"
  },
  "language_info": {
   "codemirror_mode": {
    "name": "ipython",
    "version": 3
   },
   "file_extension": ".py",
   "mimetype": "text/x-python",
   "name": "python",
   "nbconvert_exporter": "python",
   "pygments_lexer": "ipython3",
   "version": "3.6.12"
  }
 },
 "nbformat": 4,
 "nbformat_minor": 5
}
